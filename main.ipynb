{
 "cells": [
  {
   "cell_type": "markdown",
   "metadata": {},
   "source": [
    "## CNN trained on MNIST for Kaggle competition"
   ]
  },
  {
   "cell_type": "markdown",
   "metadata": {},
   "source": [
    "All the text in this document is wrong, will be rewritten..."
   ]
  },
  {
   "cell_type": "code",
   "execution_count": 1,
   "metadata": {},
   "outputs": [],
   "source": [
    "import numpy as np; import pandas as pd\n",
    "import torch\n",
    "\n",
    "import matplotlib.pyplot as plt\n",
    "from load_data import load_dataset\n",
    "from net_architecture import NumberNet\n",
    "from solver import Solver"
   ]
  },
  {
   "cell_type": "markdown",
   "metadata": {},
   "source": [
    "*** Pendign text ***"
   ]
  },
  {
   "cell_type": "code",
   "execution_count": 2,
   "metadata": {},
   "outputs": [],
   "source": [
    "training_file = \"mnist_datasets/train.csv\"\n",
    "testing_file = \"mnist_datasets/test.csv\"\n",
    "\n",
    "\n",
    "train_set, val_set = load_dataset(training_file, split = 0.85)\n",
    "test_loader = load_dataset(testing_file)\n",
    "\n",
    "model = NumberNet()\n",
    "model_name = 'model2020-03-18.20.30'\n",
    "file_name = 'saved_models/' + model_name + '.pt'\n",
    "\n",
    "load_model = True\n",
    "# Here we can load an old model if we want to evaluate it. \n",
    "if load_model:\n",
    "    model.load_state_dict(torch.load(file_name))\n",
    "\n",
    "kwargs = {'learning_rate': 1e-4,\n",
    "          'batch_size' :   64,\n",
    "          'lr_rate_decay': 0.5,\n",
    "          'decay_every_': 1}\n",
    "\n",
    "solver = Solver(model, train_set, val_set, test_loader, **kwargs)"
   ]
  },
  {
   "cell_type": "code",
   "execution_count": null,
   "metadata": {},
   "outputs": [
    {
     "name": "stdout",
     "output_type": "stream",
     "text": [
      "Started training. Will run for: 1 Epochs. Iterations per Epoch: 558.\n",
      "Done with iteration: 175/558.\n",
      "Done with iteration: 350/558.\n"
     ]
    }
   ],
   "source": [
    "solver.train(1)"
   ]
  },
  {
   "cell_type": "markdown",
   "metadata": {},
   "source": [
    "Plotting the results from the training"
   ]
  },
  {
   "cell_type": "code",
   "execution_count": null,
   "metadata": {},
   "outputs": [],
   "source": [
    "plt.subplot(2,1,1)\n",
    "plt.plot(solver.val_acc_history[0:], label = 'Validation')\n",
    "plt.plot(solver.train_acc_history[0:], label = 'Training')\n",
    "plt.legend()\n",
    "\n",
    "plt.subplot(2,1,2)\n",
    "plt.plot(solver.train_loss_history[1500:])"
   ]
  },
  {
   "cell_type": "markdown",
   "metadata": {},
   "source": [
    "Now we will load the test data, and generate the submission-file"
   ]
  },
  {
   "cell_type": "code",
   "execution_count": 12,
   "metadata": {},
   "outputs": [],
   "source": [
    "solver.test_accuracy()"
   ]
  },
  {
   "cell_type": "code",
   "execution_count": 13,
   "metadata": {},
   "outputs": [],
   "source": [
    "# Save the current model\n",
    "from torch import save\n",
    "from datetime import datetime\n",
    "\n",
    "time = str(datetime.now())\n",
    "time = time[:10] + '.' + time[11:13] + '.' + time[14:16]\n",
    "file_name = f'saved_models/model{time}.pt'\n",
    "save(model.state_dict(), file_name)"
   ]
  }
 ],
 "metadata": {
  "kernelspec": {
   "display_name": "Python 3",
   "language": "python",
   "name": "python3"
  },
  "language_info": {
   "codemirror_mode": {
    "name": "ipython",
    "version": 3
   },
   "file_extension": ".py",
   "mimetype": "text/x-python",
   "name": "python",
   "nbconvert_exporter": "python",
   "pygments_lexer": "ipython3",
   "version": "3.8.5"
  }
 },
 "nbformat": 4,
 "nbformat_minor": 2
}
